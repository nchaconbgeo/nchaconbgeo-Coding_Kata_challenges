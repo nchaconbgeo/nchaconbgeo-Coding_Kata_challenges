{
 "cells": [
  {
   "cell_type": "code",
   "execution_count": 4,
   "metadata": {},
   "outputs": [
    {
     "data": {
      "text/plain": [
       "200"
      ]
     },
     "execution_count": 4,
     "metadata": {},
     "output_type": "execute_result"
    }
   ],
   "source": [
    "import requests\n",
    "\n",
    "url = 'https://kata.geosci.ai/challenge/sequence'  # <--- In week 2, you'll change the name\n",
    "\n",
    "r = requests.get(url)\n",
    "r.status_code"
   ]
  },
  {
   "cell_type": "code",
   "execution_count": 5,
   "metadata": {},
   "outputs": [
    {
     "data": {
      "text/markdown": [
       "# Challenge: Sequence\n",
       "\n",
       "You have a string of lithology codes, reading from the **bottom up** of a geological section. There is a sample every metre. There are three lithologies:\n",
       "\n",
       "- **M**udstone\n",
       "- **F**ine sandstone or siltstone\n",
       "- **S**andstone\n",
       "\n",
       "The strings look like this:\n",
       "\n",
       "      ...MFFSSFSSSS...\n",
       "\n",
       "Your data, when you receive it, will be much longer than this.\n",
       "\n",
       "We need to get some geological information from this string of codes. Specifically, you need to answer 3 questions:\n",
       "\n",
       "1. What is the total thickess in metres of sandstone (`S`)? Each sample represents one metre.\n",
       "2. How many sandstone beds are there? A bed is a contiguous group of one lithology, so `MMFFF` is 2 beds, one of `M` and one of `F`.\n",
       "3. How many times does the most common *upwards* bed transition occur? Do not include transitions from a lithology to itself.\n",
       "\n",
       "Remember that the sequence is given to you from the bottom up. So an upwards transition is equivalent to a transition to the right.\n",
       "\n",
       "\n",
       "## Example\n",
       "\n",
       "Here is some example input:\n",
       "\n",
       "      SSMMFFFFFFFFSSMFFSSFSSSSFMFSSSSFFSSFFFMM\n",
       "      ^^          ^^   ^^ ^^^^   ^^^^  ^^\n",
       "\n",
       "And the answers to the 3 questions:\n",
       "\n",
       "- In this example, the total thickess of sandstone is 16 m. So the required answer is: **16**\n",
       "- There are 6 sandstone beds in the sequence (marked above). The answer is: **6**\n",
       "- The most common bed transition is `F` to `S`, which occurs 5 times. So the answer is: **5**\n",
       "\n",
       "\n",
       "## A quick reminder how this works\n",
       "\n",
       "You can retrieve your data by choosing any Python string as a **`<KEY>`** and substituting here:\n",
       "    \n",
       "    https://kata.geosci.ai/challenge/sequence?key=<KEY>\n",
       "                                                  ^^^^^\n",
       "                                                  use your own string here\n",
       "\n",
       "To answer question 1, make a request like:\n",
       "\n",
       "    https://kata.geosci.ai/challenge/sequence?key=<KEY>&question=1&answer=1234\n",
       "                                                  ^^^^^          ^        ^^^^\n",
       "                                                  your key       Q        your answer\n",
       "\n",
       "[Complete instructions at kata.geosci.ai](https://kata.geosci.ai/challenge)\n",
       "\n",
       "----\n",
       "\n",
       "© 2020 Agile Scientific, licensed CC-BY"
      ],
      "text/plain": [
       "<IPython.core.display.Markdown object>"
      ]
     },
     "execution_count": 5,
     "metadata": {},
     "output_type": "execute_result"
    }
   ],
   "source": [
    "from IPython.display import Markdown\n",
    "\n",
    "Markdown(r.text)"
   ]
  },
  {
   "cell_type": "code",
   "execution_count": 91,
   "metadata": {},
   "outputs": [],
   "source": [
    "my_key = \"Natalych\"\n",
    "params = {'key': my_key}\n",
    "r = requests.get(url, params)\n",
    "lithology2 = r.text"
   ]
  },
  {
   "cell_type": "code",
   "execution_count": 25,
   "metadata": {},
   "outputs": [],
   "source": [
    "lithology= \"SSMMFFFFFFFFSSMFFSSFSSSSFMFSSSSFFSSFFFMM\" "
   ]
  },
  {
   "cell_type": "markdown",
   "metadata": {},
   "source": [
    "1. What is the total thickess in metres of sandstone (S)? Each sample represents one metre."
   ]
  },
  {
   "cell_type": "code",
   "execution_count": 22,
   "metadata": {},
   "outputs": [],
   "source": [
    "def thickness (lithology):\n",
    "    sand = []\n",
    "    for i in lithology:\n",
    "        if i == \"S\":\n",
    "            sand.append(\"S\")\n",
    "    return len(sand)"
   ]
  },
  {
   "cell_type": "code",
   "execution_count": 24,
   "metadata": {},
   "outputs": [
    {
     "data": {
      "text/plain": [
       "16"
      ]
     },
     "execution_count": 24,
     "metadata": {},
     "output_type": "execute_result"
    }
   ],
   "source": [
    "thickness(lithology)"
   ]
  },
  {
   "cell_type": "code",
   "execution_count": 92,
   "metadata": {},
   "outputs": [
    {
     "data": {
      "text/plain": [
       "5717"
      ]
     },
     "execution_count": 92,
     "metadata": {},
     "output_type": "execute_result"
    }
   ],
   "source": [
    "thickness(lithology2)"
   ]
  },
  {
   "cell_type": "code",
   "execution_count": 94,
   "metadata": {},
   "outputs": [
    {
     "data": {
      "text/plain": [
       "'Correct'"
      ]
     },
     "execution_count": 94,
     "metadata": {},
     "output_type": "execute_result"
    }
   ],
   "source": [
    "params = {'key': \"Natalych\",   \n",
    "              'question': 1,   \n",
    "              'answer': 5717,  \n",
    "             }\n",
    "r = requests.get(url, params)\n",
    "r.text"
   ]
  },
  {
   "cell_type": "markdown",
   "metadata": {},
   "source": [
    "2. How many sandstone beds are there? A bed is a contiguous group of one lithology, so MMFFF is 2 beds, one of M and \n",
    "one of F."
   ]
  },
  {
   "cell_type": "code",
   "execution_count": 60,
   "metadata": {},
   "outputs": [],
   "source": [
    "def bed_sand(lithology):\n",
    "    bed = []\n",
    "    for i in range (len(lithology)):\n",
    "        if i == (len(lithology)-1) and lithology[i] == \"S\":\n",
    "            bed.append(\"S\")\n",
    "        elif lithology[i] == \"S\" and lithology[i+1] != \"S\":\n",
    "            bed.append(\"S\")\n",
    "            \n",
    "    return len(bed) \n",
    "    "
   ]
  },
  {
   "cell_type": "code",
   "execution_count": 62,
   "metadata": {},
   "outputs": [
    {
     "data": {
      "text/plain": [
       "6"
      ]
     },
     "execution_count": 62,
     "metadata": {},
     "output_type": "execute_result"
    }
   ],
   "source": [
    "bed_sand(lithology) "
   ]
  },
  {
   "cell_type": "code",
   "execution_count": 65,
   "metadata": {},
   "outputs": [
    {
     "data": {
      "text/plain": [
       "3"
      ]
     },
     "execution_count": 65,
     "metadata": {},
     "output_type": "execute_result"
    }
   ],
   "source": [
    "bed_sand(\"SSSMMSSFS\") "
   ]
  },
  {
   "cell_type": "code",
   "execution_count": 95,
   "metadata": {},
   "outputs": [
    {
     "data": {
      "text/plain": [
       "2335"
      ]
     },
     "execution_count": 95,
     "metadata": {},
     "output_type": "execute_result"
    }
   ],
   "source": [
    "bed_sand(lithology2)"
   ]
  },
  {
   "cell_type": "code",
   "execution_count": 96,
   "metadata": {},
   "outputs": [
    {
     "data": {
      "text/plain": [
       "'Correct'"
      ]
     },
     "execution_count": 96,
     "metadata": {},
     "output_type": "execute_result"
    }
   ],
   "source": [
    "params = {'key': \"Natalych\",   \n",
    "              'question': 2,   \n",
    "              'answer': 2335,  \n",
    "             }\n",
    "r = requests.get(url, params)\n",
    "r.text"
   ]
  },
  {
   "cell_type": "markdown",
   "metadata": {},
   "source": [
    "3. How many times does the most common upwards bed transition occur? Do not include transitions from a lithology to itself."
   ]
  },
  {
   "cell_type": "code",
   "execution_count": 86,
   "metadata": {},
   "outputs": [],
   "source": [
    "def transition(lithology):\n",
    "    T = []\n",
    "    for i in range (len(lithology)-1):\n",
    "        if lithology[i] == \"S\" and lithology[i+1] == \"F\":\n",
    "            T.append(\"SF\")\n",
    "        elif lithology[i] == \"F\" and lithology[i+1] == \"S\":\n",
    "            T.append(\"FS\")\n",
    "        elif lithology[i] == \"S\" and lithology[i+1] == \"M\":\n",
    "            T.append(\"SM\")\n",
    "        elif lithology[i] == \"M\" and lithology[i+1] == \"S\":\n",
    "            T.append(\"MS\")\n",
    "        elif lithology[i] == \"F\" and lithology[i+1] == \"M\":\n",
    "            T.append(\"FM\")\n",
    "        elif lithology[i] == \"M\" and lithology[i+1] == \"F\":\n",
    "            T.append(\"MF\")\n",
    "            \n",
    "    return T.count(mode(T))\n",
    "  \n",
    "    \n",
    "    "
   ]
  },
  {
   "cell_type": "code",
   "execution_count": 88,
   "metadata": {},
   "outputs": [
    {
     "data": {
      "text/plain": [
       "5"
      ]
     },
     "execution_count": 88,
     "metadata": {},
     "output_type": "execute_result"
    }
   ],
   "source": [
    "transition(lithology)  "
   ]
  },
  {
   "cell_type": "code",
   "execution_count": 89,
   "metadata": {},
   "outputs": [
    {
     "data": {
      "text/plain": [
       "4"
      ]
     },
     "execution_count": 89,
     "metadata": {},
     "output_type": "execute_result"
    }
   ],
   "source": [
    "transition(\"MFMFFMFFFFSMF\")"
   ]
  },
  {
   "cell_type": "code",
   "execution_count": 97,
   "metadata": {},
   "outputs": [
    {
     "data": {
      "text/plain": [
       "2307"
      ]
     },
     "execution_count": 97,
     "metadata": {},
     "output_type": "execute_result"
    }
   ],
   "source": [
    "transition(lithology2)"
   ]
  },
  {
   "cell_type": "code",
   "execution_count": 98,
   "metadata": {},
   "outputs": [
    {
     "data": {
      "text/plain": [
       "'Correct! The next challenge is: https://kata.geosci.ai/challenge/boreholes - good luck!'"
      ]
     },
     "execution_count": 98,
     "metadata": {},
     "output_type": "execute_result"
    }
   ],
   "source": [
    "params = {'key': \"Natalych\",   \n",
    "              'question': 3,   \n",
    "              'answer': 2307,  \n",
    "             }\n",
    "r = requests.get(url, params)\n",
    "r.text"
   ]
  },
  {
   "cell_type": "code",
   "execution_count": null,
   "metadata": {},
   "outputs": [],
   "source": []
  }
 ],
 "metadata": {
  "kernelspec": {
   "display_name": "Python 3",
   "language": "python",
   "name": "python3"
  },
  "language_info": {
   "codemirror_mode": {
    "name": "ipython",
    "version": 3
   },
   "file_extension": ".py",
   "mimetype": "text/x-python",
   "name": "python",
   "nbconvert_exporter": "python",
   "pygments_lexer": "ipython3",
   "version": "3.7.4"
  }
 },
 "nbformat": 4,
 "nbformat_minor": 2
}
