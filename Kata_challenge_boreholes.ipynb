{
 "cells": [
  {
   "cell_type": "code",
   "execution_count": 103,
   "metadata": {},
   "outputs": [
    {
     "data": {
      "text/plain": [
       "200"
      ]
     },
     "execution_count": 103,
     "metadata": {},
     "output_type": "execute_result"
    }
   ],
   "source": [
    "import requests\n",
    "\n",
    "url = 'https://kata.geosci.ai/challenge/boreholes'  \n",
    "r = requests.get(url)\n",
    "r.status_code"
   ]
  },
  {
   "cell_type": "markdown",
   "metadata": {},
   "source": [
    "You have a list of boreholes. Each one has an (x, y) location. The locations are given as a Python string, and look like this:\n",
    "\n",
    "    ..., (12.1, 34.3), (56.5, 78.7), (90.9, 12.1),...\n",
    "    \n",
    "Your data, when you receive it, will be longer than this.\n",
    "    \n",
    "We're going to analyse these locations. We need the answers to the following questions:\n",
    "        \n",
    "1. How many boreholes are there? We'll call this number _n_.\n",
    "2. What's the distance, **to the nearest metre** between the first two boreholes in the list?\n",
    "3. What is the mean straight-line distance between all pairs of boreholes **to the nearest metre**? Call this _m_.\n",
    "4. There is a clump of boreholes. How many boreholes are in the clump? (A borehole is defined to be in a clump if the mean distance to its nearest _n_ / 5 neighbours is _m_ / 4 or less.)\n",
    "\n",
    "Please note that all your answers must be integers. If you get a float for an answer, round it."
   ]
  },
  {
   "cell_type": "code",
   "execution_count": 104,
   "metadata": {},
   "outputs": [],
   "source": [
    "my_key = \"Natalych\"\n",
    "params = {'key': my_key}\n",
    "r = requests.get(url, params)\n",
    "location1 = r.text"
   ]
  },
  {
   "cell_type": "code",
   "execution_count": 143,
   "metadata": {},
   "outputs": [],
   "source": [
    "location = \"(1, 4), (5, 4), (9, 3), (2, 8), (6, 4), (9, 9), (5, 5), (4, 3), (4, 5), (2, 1)\""
   ]
  },
  {
   "cell_type": "markdown",
   "metadata": {},
   "source": [
    "1.How many boreholes are there? We'll call this number n."
   ]
  },
  {
   "cell_type": "code",
   "execution_count": 56,
   "metadata": {},
   "outputs": [],
   "source": [
    "def n (location):\n",
    "    loc =location.replace(\" \",\"\")\n",
    "    loc =loc.replace(\"(\",\"\")\n",
    "    loc =loc.replace(\")\",\"\")\n",
    "    loc = [float(i) for i in loc.split(',')]\n",
    "    return len(loc)/2"
   ]
  },
  {
   "cell_type": "code",
   "execution_count": 57,
   "metadata": {},
   "outputs": [
    {
     "data": {
      "text/plain": [
       "10.0"
      ]
     },
     "execution_count": 57,
     "metadata": {},
     "output_type": "execute_result"
    }
   ],
   "source": [
    "n(location)"
   ]
  },
  {
   "cell_type": "code",
   "execution_count": 59,
   "metadata": {},
   "outputs": [
    {
     "data": {
      "text/plain": [
       "525.0"
      ]
     },
     "execution_count": 59,
     "metadata": {},
     "output_type": "execute_result"
    }
   ],
   "source": [
    "n(location1)"
   ]
  },
  {
   "cell_type": "code",
   "execution_count": 100,
   "metadata": {},
   "outputs": [
    {
     "data": {
      "text/plain": [
       "'Correct'"
      ]
     },
     "execution_count": 100,
     "metadata": {},
     "output_type": "execute_result"
    }
   ],
   "source": [
    "params = {'key': \"Natalych\",   \n",
    "              'question': 1,   \n",
    "              'answer': 525,  \n",
    "             }\n",
    "r = requests.get(url, params)\n",
    "r.text"
   ]
  },
  {
   "cell_type": "markdown",
   "metadata": {},
   "source": [
    "2. What's the distance, to the nearest metre between the first two boreholes in the list?"
   ]
  },
  {
   "cell_type": "code",
   "execution_count": 89,
   "metadata": {},
   "outputs": [],
   "source": [
    "def distance(location):\n",
    "    loc =location.replace(\" \",\"\")\n",
    "    loc =loc.replace(\"(\",\"\")\n",
    "    loc =loc.replace(\")\",\"\")\n",
    "    loc = [float(i) for i in loc.split(',')]\n",
    "    x1 = loc[0]\n",
    "    x2 = loc[2]\n",
    "    y1 = loc[1]\n",
    "    y2 = loc[3]\n",
    "    dis =((x2-x1)**2+(y2-y1)**2)**(1/2)\n",
    "    return round(dis)"
   ]
  },
  {
   "cell_type": "code",
   "execution_count": 90,
   "metadata": {},
   "outputs": [
    {
     "data": {
      "text/plain": [
       "4"
      ]
     },
     "execution_count": 90,
     "metadata": {},
     "output_type": "execute_result"
    }
   ],
   "source": [
    "distance(location)"
   ]
  },
  {
   "cell_type": "code",
   "execution_count": 94,
   "metadata": {},
   "outputs": [
    {
     "data": {
      "text/plain": [
       "13550"
      ]
     },
     "execution_count": 94,
     "metadata": {},
     "output_type": "execute_result"
    }
   ],
   "source": [
    "distance(location1)"
   ]
  },
  {
   "cell_type": "code",
   "execution_count": 99,
   "metadata": {},
   "outputs": [
    {
     "data": {
      "text/plain": [
       "'Correct'"
      ]
     },
     "execution_count": 99,
     "metadata": {},
     "output_type": "execute_result"
    }
   ],
   "source": [
    "params = {'key': \"Natalych\",   \n",
    "              'question': 2,   \n",
    "              'answer':13550,  \n",
    "             }\n",
    "r = requests.get(url, params)\n",
    "r.text"
   ]
  },
  {
   "cell_type": "markdown",
   "metadata": {},
   "source": [
    "3. What is the mean straight-line distance between all pairs of boreholes to the nearest metre? Call this m."
   ]
  },
  {
   "cell_type": "code",
   "execution_count": 689,
   "metadata": {},
   "outputs": [],
   "source": [
    "def m(location):\n",
    "    loc =location.replace(\" \",\"\")\n",
    "    loc =loc.replace(\"(\",\"\")\n",
    "    loc =loc.replace(\")\",\"\")\n",
    "    loc = [float(i) for i in loc.split(',')]\n",
    "    distance = []\n",
    "    for i in range(0,len(loc)-2,2):\n",
    "        x1 =loc[i] \n",
    "        y1 =loc[i+1] \n",
    "        for j in range(i+2,len(loc)-1,2):\n",
    "            x2 = loc[j]\n",
    "            y2 = loc[j+1]\n",
    "            dis =((x2-x1)**2+(y2-y1)**2)**(1/2)\n",
    "            distance.append(dis)\n",
    "    return (mean(distance))"
   ]
  },
  {
   "cell_type": "code",
   "execution_count": 690,
   "metadata": {},
   "outputs": [
    {
     "data": {
      "text/plain": [
       "4.5876484364831756"
      ]
     },
     "execution_count": 690,
     "metadata": {},
     "output_type": "execute_result"
    }
   ],
   "source": [
    "m(location)"
   ]
  },
  {
   "cell_type": "code",
   "execution_count": 135,
   "metadata": {},
   "outputs": [
    {
     "data": {
      "text/plain": [
       "12046"
      ]
     },
     "execution_count": 135,
     "metadata": {},
     "output_type": "execute_result"
    }
   ],
   "source": [
    "m(location1)"
   ]
  },
  {
   "cell_type": "code",
   "execution_count": 130,
   "metadata": {},
   "outputs": [
    {
     "data": {
      "text/plain": [
       "'Correct'"
      ]
     },
     "execution_count": 130,
     "metadata": {},
     "output_type": "execute_result"
    }
   ],
   "source": [
    "params = {'key': \"Natalych\",   \n",
    "              'question': 3,   \n",
    "              'answer':12046,  \n",
    "             }\n",
    "r = requests.get(url, params)\n",
    "r.text"
   ]
  },
  {
   "cell_type": "markdown",
   "metadata": {},
   "source": [
    "4.There is a clump of boreholes. How many boreholes are in the clump? (A borehole is defined to be in a clump if the mean distance to its nearest n / 5 neighbours is m / 4 or less.)"
   ]
  },
  {
   "cell_type": "code",
   "execution_count": 2,
   "metadata": {},
   "outputs": [],
   "source": [
    "location = \"(1, 4), (5, 4), (9, 3), (2, 8), (6, 4), (9, 9), (5, 5), (4, 3), (4, 5), (2, 1)\""
   ]
  },
  {
   "cell_type": "code",
   "execution_count": 717,
   "metadata": {},
   "outputs": [],
   "source": [
    "loc =location1.replace(\" \",\"\")\n",
    "loc =loc.replace(\"(\",\"\")\n",
    "loc =loc.replace(\")\",\"\")\n",
    "loc = [float(i) for i in loc.split(',')]"
   ]
  },
  {
   "cell_type": "code",
   "execution_count": 718,
   "metadata": {},
   "outputs": [
    {
     "name": "stdout",
     "output_type": "stream",
     "text": [
      "131\n"
     ]
    }
   ],
   "source": [
    "Dict= {}\n",
    "m=0\n",
    "total=0\n",
    "for i in range(0,len(loc),2):\n",
    "    tup = tuple(loc[i:i+2])\n",
    "    Dict[tup] = {}\n",
    "    x1 = loc[i]\n",
    "    y1 = loc[i+1]\n",
    "    for j in range(0,len(loc),2):\n",
    "        if i!=j:\n",
    "            x2 = loc[j]\n",
    "            y2 = loc[j+1]\n",
    "            tup2 = tuple(loc[j:j+2])\n",
    "            distance = ((x2-x1)**2+(y2-y1)**2)**(1/2)\n",
    "            Dict[tup][tup2]= distance\n",
    "            \n",
    "            m+=distance\n",
    "            total+=1\n",
    "            \n",
    "    my_list=[(k, v) for k, v in Dict[tup].items()] \n",
    "    \n",
    "    my_list.sort(key=operator.itemgetter(1))\n",
    "    Dict[tup]=my_list\n",
    "    \n",
    "m=round(m/total)\n",
    "n = len(loc)/2\n",
    "neighbour = int(n/5)\n",
    "distance = m/4\n",
    "clump = []\n",
    "\n",
    "for key in Dict:\n",
    "    dist = 0\n",
    "    for i in range(neighbour):\n",
    "        comp=Dict[key][i][1]\n",
    "        dist+=comp\n",
    "    dist/=neighbour\n",
    "    if dist<=distance:\n",
    "        clump.append(key)\n",
    "print(len(clump)) \n",
    "       \n"
   ]
  },
  {
   "cell_type": "code",
   "execution_count": 719,
   "metadata": {},
   "outputs": [
    {
     "data": {
      "text/plain": [
       "'Correct! The next challenge is: https://kata.geosci.ai/challenge/sample-names - good luck!'"
      ]
     },
     "execution_count": 719,
     "metadata": {},
     "output_type": "execute_result"
    }
   ],
   "source": [
    "params = {'key': \"Natalych\",   \n",
    "              'question': 4,   \n",
    "              'answer':131,  \n",
    "             }\n",
    "r = requests.get(url, params)\n",
    "r.text"
   ]
  },
  {
   "cell_type": "markdown",
   "metadata": {},
   "source": [
    "4.There is a clump of boreholes. How many boreholes are in the clump? (A borehole is defined to be in a clump if the mean distance to its nearest n / 5 neighbours is m / 4 or less.)"
   ]
  },
  {
   "cell_type": "code",
   "execution_count": 105,
   "metadata": {},
   "outputs": [],
   "source": [
    "loc =location1.replace(\" \",\"\")\n",
    "loc =loc.replace(\"(\",\"\")\n",
    "loc =loc.replace(\")\",\"\")\n",
    "loc = [float(i) for i in loc.split(',')]\n",
    "distance = []\n",
    "m = 0\n",
    "total = 0\n",
    "for i in range(0,len(loc),2):\n",
    "        x1 =loc[i] \n",
    "        y1 =loc[i+1] \n",
    "        for j in range(0,len(loc),2):\n",
    "            if i !=j:\n",
    "                x2 = loc[j]\n",
    "                y2 = loc[j+1]\n",
    "                dis =((x2-x1)**2+(y2-y1)**2)**(1/2)\n",
    "                distance.append(dis)\n",
    "                m += dis\n",
    "                total+=1\n",
    "m = round(m/total)       \n",
    "n = int(len(loc)/2)\n",
    "neighbour = int(n/5)\n",
    "dista = m/4\n",
    "clump = []\n",
    "sum_neig=0"
   ]
  },
  {
   "cell_type": "code",
   "execution_count": 106,
   "metadata": {},
   "outputs": [],
   "source": [
    "for i in range(0,len(distance),n-1):\n",
    "    bore_dis=distance[i:i+(n-1)]\n",
    "    bore_dis.sort()\n",
    "    \n",
    "    for j in range(neighbour):\n",
    "        sum_neig += bore_dis[j]\n",
    "    \n",
    "    mean_neigh = sum_neig/neighbour\n",
    "    if mean_neigh <= dista:\n",
    "        clump.append(1)\n",
    "        \n",
    "    sum_neig= 0\n",
    "  "
   ]
  },
  {
   "cell_type": "code",
   "execution_count": 107,
   "metadata": {},
   "outputs": [
    {
     "data": {
      "text/plain": [
       "131"
      ]
     },
     "execution_count": 107,
     "metadata": {},
     "output_type": "execute_result"
    }
   ],
   "source": [
    "len(clump)"
   ]
  }
 ],
 "metadata": {
  "kernelspec": {
   "display_name": "Python 3",
   "language": "python",
   "name": "python3"
  },
  "language_info": {
   "codemirror_mode": {
    "name": "ipython",
    "version": 3
   },
   "file_extension": ".py",
   "mimetype": "text/x-python",
   "name": "python",
   "nbconvert_exporter": "python",
   "pygments_lexer": "ipython3",
   "version": "3.7.4"
  }
 },
 "nbformat": 4,
 "nbformat_minor": 2
}
